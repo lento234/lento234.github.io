{
 "cells": [
  {
   "cell_type": "markdown",
   "metadata": {},
   "source": [
    "# Lattice Boltzmann solver: Ragnarok\n",
    "\n",
    "**Last updated**: September 1, 2018"
   ]
  },
  {
   "cell_type": "markdown",
   "metadata": {},
   "source": [
    "Ragnarok is an open-source python library for solving lattice boltzmann method. \n",
    "\n",
    "<p align=\"center\">\n",
    "    <img src=\"https://raw.githubusercontent.com/lento234/ragnarok/master/media/doublyperiod_shearlayer_animation.gif\" width=\"600\" height=\"400\" alt=\"Doubly-periodic shear-layer\" />\n",
    "</p>    \n",
    "\n",
    "Pip install (directly from git repo):\n",
    "\n",
    "```\n",
    "$ pip install git+https://github.com/lento234/ragnarok.git\n",
    "```\n",
    "---"
   ]
  },
  {
   "cell_type": "markdown",
   "metadata": {},
   "source": [
    "## Doubly-periodic shear layer\n",
    "\n",
    "A 2D NS problem with a doubly-period shear layer initial condition.\n",
    "\n",
    "\n",
    "** Lattice Boltzmann method **\n",
    "\n",
    "A simple lattice Boltzmann Bhatnagar-Gross-Krook (LBGK) model is used, given in discrete form as:\n",
    "\\begin{equation}\n",
    "f_i \\left(\\mathbf{x} + \\mathbf{c}_i, t+1\\right) - f_i \\left(\\mathbf{x}, t\\right) = \\alpha \\beta \\left(f_i^{eq} - f_i\\right)\n",
    "\\end{equation}\n",
    "\n",
    "where $\\alpha = 2$, $\\beta = \\left(2\\nu/c_s^2 +1 \\right)^{-1}$, $f_i$ is the population of discrete velocities $\\mathbf{c}_i$ and $f_i^{eq}$ is the equilibrium population. The local macroscopic (i.e. density and momentum) is defined as:\n",
    "\n",
    "\\begin{equation}\n",
    "\\rho = \\Sigma_i f_i\n",
    "\\end{equation} \n",
    "and\n",
    "\\begin{equation}\n",
    "\\rho \\mathbf{u} = \\Sigma_i \\mathbf{c}_i f_i\n",
    "\\end{equation} \n",
    "\n",
    "The present LBM model uses D2Q9 lattice, discretizing the velocity spaces with 9 population function for simulating 2D-dimensional flow. The associated lattice velocites $[c_x, c_y]^T$ and lattice weights $W$ are:\n",
    "\n",
    "\\begin{equation}\n",
    "\\left[\\begin{array}{c}\n",
    "\tc_x\\\\c_y\n",
    "\t\\end{array} \\right]\n",
    "\t=\n",
    "\t\\left[\n",
    "\\begin{array}{ccccccccc}\n",
    "\t0 & 1 & 0 & -1 & 0 & 1 & -1 & -1 & 1\\\\ \n",
    "\t0 & 0 & 1 & 0 & -1 & 1 & 1 & -1 & -1\\\\ \n",
    "\t\\end{array} \\right]\n",
    "\\end{equation}\n",
    "and\n",
    "\\begin{equation}\n",
    "W = \n",
    "\\left[\n",
    "\\begin{array}{ccccccccc}\n",
    "\\frac{4}{9} & \\frac{1}{9} & \\frac{1}{9} & \\frac{1}{9}& \\frac{1}{9} & \\frac{1}{36} & \\frac{1}{36}  & \\frac{1}{36}  & \\frac{1}{36} \\\\ \n",
    "\\end{array} \\right]\n",
    "\\end{equation}\n",
    "\n",
    "The equilibrium population $f_i^{eq}$ is determined from local conservations:\n",
    "\\begin{equation}\n",
    "f_i^{eq} = \\rho W_i \\left(2 - \\sqrt{1 + 3 u_x^2}\\right) \\left(2 - \\sqrt{1 + 3 u_y^2}\\right) \\\\\n",
    "\\left(\\frac{2u_x- \\sqrt{1 + 3 u_x^2}}{1 - u_x}\\right)^{c_{x,i}} \\left(\\frac{2u_y- \\sqrt{1 + 3 u_y^2}}{1 - u_y}\\right)^{c_{y,i}}\n",
    "\\end{equation}\n",
    "\n",
    "The discrete LBM is split into two operations: advection (streaming) and relaxtion (collision) step."
   ]
  },
  {
   "cell_type": "markdown",
   "metadata": {},
   "source": [
    "## Import Modules"
   ]
  },
  {
   "cell_type": "markdown",
   "metadata": {},
   "source": [
    "**Standard**"
   ]
  },
  {
   "cell_type": "code",
   "execution_count": 1,
   "metadata": {},
   "outputs": [],
   "source": [
    "import time\n",
    "import numpy as np\n",
    "import math"
   ]
  },
  {
   "cell_type": "markdown",
   "metadata": {},
   "source": [
    "**High performance computing**"
   ]
  },
  {
   "cell_type": "code",
   "execution_count": 2,
   "metadata": {},
   "outputs": [],
   "source": [
    "from numba import vectorize, jit"
   ]
  },
  {
   "cell_type": "markdown",
   "metadata": {},
   "source": [
    "**Plotting**"
   ]
  },
  {
   "cell_type": "code",
   "execution_count": 3,
   "metadata": {},
   "outputs": [],
   "source": [
    "import matplotlib.pyplot as plt\n",
    "import matplotlib.animation as animation"
   ]
  },
  {
   "cell_type": "markdown",
   "metadata": {},
   "source": [
    "**Lattice boltzmann solver**"
   ]
  },
  {
   "cell_type": "code",
   "execution_count": 4,
   "metadata": {},
   "outputs": [],
   "source": [
    "import ragnarok"
   ]
  },
  {
   "cell_type": "markdown",
   "metadata": {},
   "source": [
    "## Initial condition"
   ]
  },
  {
   "cell_type": "code",
   "execution_count": 5,
   "metadata": {},
   "outputs": [],
   "source": [
    "def doublyperiodicshearlayer():\n",
    "    delta = 0.05\n",
    "    kappa = 80.0\n",
    "    u0 = 0.01\n",
    "    ux = np.zeros(x.shape)\n",
    "    ux[y<=Ny/2.0] = u0*np.tanh(kappa*(y[y<=Ny/2.0]/float(Ny) - 0.25))\n",
    "    ux[y>Ny/2.0]  = u0*np.tanh(kappa*(0.75 - y[y>Ny/2.0]/float(Ny)))\n",
    "    uy = delta*u0*np.sin(2*np.pi*(x/float(Nx) + 0.25))\n",
    "    return ux, uy"
   ]
  },
  {
   "cell_type": "markdown",
   "metadata": {},
   "source": [
    "## Plotting function"
   ]
  },
  {
   "cell_type": "markdown",
   "metadata": {},
   "source": [
    "**GR version**"
   ]
  },
  {
   "cell_type": "code",
   "execution_count": 6,
   "metadata": {},
   "outputs": [],
   "source": [
    "def plot(t,zlim=(-0.25,0.25)):\n",
    "    vortz = curl(solver.u)\n",
    "    pygr.surface(vortz, rotation=0, tilt=90,colormap=34,\n",
    "                 xlabel='x', ylabel='y', title='vortz - T = {}'.format(t),\n",
    "                 zlim=zlim, accelerate=True)"
   ]
  },
  {
   "cell_type": "markdown",
   "metadata": {},
   "source": [
    "** MPL version:**"
   ]
  },
  {
   "cell_type": "code",
   "execution_count": 7,
   "metadata": {},
   "outputs": [],
   "source": [
    "def plot_mpl(i):\n",
    "    plt.figure('plot')    \n",
    "    plt.clf()\n",
    "    vortz = curl(solver.u)\n",
    "    levels = np.linspace(-0.25,0.25,26)\n",
    "    plt.contourf(x,y,vortz,levels,cmap='RdBu_r',extend='both')\n",
    "    plt.xlabel('x')\n",
    "    plt.ylabel('y')\n",
    "    plt.title('T = %d' % i)\n",
    "    plt.colorbar(ticks=levels[::5])\n",
    "    plt.axis('scaled')\n",
    "    plt.axis([0,Nx,0,Ny])\n",
    "    plt.pause(0.1)"
   ]
  },
  {
   "cell_type": "markdown",
   "metadata": {},
   "source": [
    "## Post-processing functions"
   ]
  },
  {
   "cell_type": "markdown",
   "metadata": {},
   "source": [
    "**Velocity norm:**"
   ]
  },
  {
   "cell_type": "code",
   "execution_count": 8,
   "metadata": {},
   "outputs": [],
   "source": [
    "@vectorize(['float64(float64,float64)'],target='parallel')\n",
    "def calcnorm(ux,uy):\n",
    "    return math.sqrt(ux**2+uy**2)"
   ]
  },
  {
   "cell_type": "markdown",
   "metadata": {},
   "source": [
    "**Velocity curl - vorticity:**"
   ]
  },
  {
   "cell_type": "code",
   "execution_count": 9,
   "metadata": {},
   "outputs": [],
   "source": [
    "@jit\n",
    "def curl(u):\n",
    "    dudx,dudy = np.gradient(u[0], 1.0/Nx,1.0/Ny)\n",
    "    dvdx,dvdy = np.gradient(u[1], 1.0/Nx,1.0/Ny)\n",
    "    return dvdx - dudy"
   ]
  },
  {
   "cell_type": "markdown",
   "metadata": {},
   "source": [
    "## Settings"
   ]
  },
  {
   "cell_type": "markdown",
   "metadata": {},
   "source": [
    "**Simulation parameters**"
   ]
  },
  {
   "cell_type": "code",
   "execution_count": 10,
   "metadata": {},
   "outputs": [],
   "source": [
    "Re = 30000 # Reynolds number\n",
    "# T = 20000 # Number of time steps \n",
    "T = 20000 # Number of time steps \n",
    "U = 0.1 # Lattice velocity\n",
    "\n",
    "Nx = 100 # Number of lattice in x-dir\n",
    "Ny = 100 # Number of lattice in y-dir"
   ]
  },
  {
   "cell_type": "markdown",
   "metadata": {},
   "source": [
    "**Postprocessing parameters**"
   ]
  },
  {
   "cell_type": "code",
   "execution_count": 11,
   "metadata": {},
   "outputs": [],
   "source": [
    "# Flags\n",
    "apply_bc = True\n",
    "plot_step = 100\n",
    "plot_save = False\n",
    "plot_flag = True"
   ]
  },
  {
   "cell_type": "markdown",
   "metadata": {},
   "source": [
    "## Solver"
   ]
  },
  {
   "cell_type": "markdown",
   "metadata": {},
   "source": [
    "Initialze the 2D NS solver:"
   ]
  },
  {
   "cell_type": "code",
   "execution_count": 12,
   "metadata": {},
   "outputs": [
    {
     "name": "stdout",
     "output_type": "stream",
     "text": [
      "nu = 0.000333\n",
      "beta = 0.998004\n",
      "omega = 1.996008\n"
     ]
    }
   ],
   "source": [
    "solver = ragnarok.NavierStokes2D(U=U, Re=Re, Nx=Nx, Ny=Ny)"
   ]
  },
  {
   "cell_type": "markdown",
   "metadata": {},
   "source": [
    "Reference parameters:"
   ]
  },
  {
   "cell_type": "code",
   "execution_count": 13,
   "metadata": {},
   "outputs": [],
   "source": [
    "# Get parameters\n",
    "L = solver.L\n",
    "U = solver.U\n",
    "nu = solver.nu\n",
    "Nx = solver.Nx\n",
    "Ny = solver.Ny\n",
    "cs = solver.cs\n",
    "x = solver.x[0]\n",
    "y = solver.x[1]"
   ]
  },
  {
   "cell_type": "markdown",
   "metadata": {},
   "source": [
    "## Initial conditions\n",
    "\n",
    "The doubly periodic shear layer (DPSL) describes the case of roll-up of two anti-parallel shear layers within a periodic square domain. The initial condition is given as:\n",
    "\n",
    "\\begin{align}\n",
    "u_x &= \\left\\{  \\begin{array}{l}\n",
    "u_0 \\tanh \\left[\\kappa \\left(\\frac{y}{N} - \\frac{1}{4}\\right) \\right], y \\le N/2, \\\\\n",
    "u_0 \\tanh \\left(\\kappa \\left(\\frac{3}{4} - \\frac{y}{N}\\right) \\right), y > N/2, \\\\\n",
    "\\end{array} \\right.\\\\\n",
    "\\\\\n",
    "u_y &= \\delta \\sin \\left[ 2 \\pi  \\left(\\frac{x}{N} + \\frac{1}{4} \\right)\\right].\n",
    "\\end{align}"
   ]
  },
  {
   "cell_type": "markdown",
   "metadata": {},
   "source": [
    "**Assign the initial condition:**"
   ]
  },
  {
   "cell_type": "code",
   "execution_count": 14,
   "metadata": {},
   "outputs": [],
   "source": [
    "# Setup initial conditions (Doubly periodic shear layer)\n",
    "ux, uy = doublyperiodicshearlayer()"
   ]
  },
  {
   "cell_type": "markdown",
   "metadata": {},
   "source": [
    "**Initialize the population:**"
   ]
  },
  {
   "cell_type": "code",
   "execution_count": 15,
   "metadata": {},
   "outputs": [],
   "source": [
    "solver.initialize(ux=ux,uy=uy)"
   ]
  },
  {
   "cell_type": "markdown",
   "metadata": {},
   "source": [
    "** Plot initial condition **"
   ]
  },
  {
   "cell_type": "code",
   "execution_count": 17,
   "metadata": {},
   "outputs": [
    {
     "data": {
      "image/png": "[encoded data removed]",
      "text/plain": [
       "<Figure size 640x480 with 2 Axes>"
      ]
     },
     "metadata": {},
     "output_type": "display_data"
    }
   ],
   "source": [
    "plot_mpl(0)"
   ]
  },
  {
   "cell_type": "markdown",
   "metadata": {},
   "source": [
    "## Time stepping\n",
    "\n",
    "The simulation parameters are $\\mathrm{Re} = (U L)/\\nu = 30\\ 000$, $\\delta = 0.05$, $\\kappa = 80$, $L = N = N_x = N_y = 100$ and $U=0.1$, providing a $\\beta = 0.9980$. The vorticity of the flow is defined as $\\omega = \\nabla \\times \\mathbf{u}$ and in 2D with $\\mathbf{u} = (u_x,u_y)^T$, it is given as:\n",
    "\\begin{equation}\n",
    "\\omega = \\frac{\\partial v}{\\partial x} - \\frac{\\partial u}{\\partial y}\n",
    "\\end{equation}\n",
    "\n",
    "**Simulation Algorithm**:\n",
    " 1. `stream`: Streaming / advection step: $f'_i(x) \\leftarrow f^n_i(x-c_i)$\n",
    " 2. `apply_periodic`: Apply periodic boundary condition\n",
    " 3. `relax`: Relaxation / collision step: $f^{n+1}_i(x) \\leftarrow f'_i  + \\alpha\\beta \\left[f'^{eq}_i(x,t) - f'_i(x,t)\\right]$"
   ]
  },
  {
   "cell_type": "code",
   "execution_count": 18,
   "metadata": {},
   "outputs": [
    {
     "name": "stdout",
     "output_type": "stream",
     "text": [
      "Total time: 9.13418 sec for 20000 steps, 0.456709 ms/step\n"
     ]
    }
   ],
   "source": [
    "fig, ax = plt.subplots()\n",
    "\n",
    "ims = []\n",
    "for t in range(T+1):\n",
    "    if t==1: # for JIT\n",
    "        startTime = time.time()\n",
    "    \n",
    "    # Plot\n",
    "    if plot_flag and t % plot_step == 0:\n",
    "        vortz = curl(solver.u)\n",
    "        im = ax.imshow(vortz, vmin=-0.25, vmax=0.25, cmap='RdBu_r')\n",
    "        ims.append([im])\n",
    "\n",
    "    # Step 1: Streaming / advection step: f'_i(x) <- f^n_i(x-c_i)\n",
    "    solver.stream()\n",
    "    \n",
    "    # Step 2: Apply boundary condition\n",
    "    solver.apply_periodic()\n",
    "    \n",
    "    # Step 3: Relaxation / collision step: f^{n+1}_i(x) <- f'_i + \\alpha\\beta [f^{eq}'_i(x,t) - f'_i(x,t)]\n",
    "    solver.relax()\n",
    "    \n",
    "    if solver.rho.min() <= 0.:\n",
    "        print('Density is negative!')\n",
    "        break\n",
    "\n",
    "# Done\n",
    "duration = time.time()-startTime\n",
    "print('Total time: {:3g} sec for {:d} steps, {:3g} ms/step'.format(duration, T, duration/T*1000)) "
   ]
  },
  {
   "cell_type": "markdown",
   "metadata": {},
   "source": [
    "## Save animation"
   ]
  },
  {
   "cell_type": "code",
   "execution_count": null,
   "metadata": {},
   "outputs": [],
   "source": [
    "ani = animation.ArtistAnimation(fig, ims, interval=10, repeat_delay=1000)\n",
    "ani.save('animation.mp4')"
   ]
  },
  {
   "cell_type": "code",
   "execution_count": null,
   "metadata": {},
   "outputs": [],
   "source": []
  }
 ],
 "metadata": {
  "kernelspec": {
   "display_name": "Python 3",
   "language": "python",
   "name": "python3"
  },
  "language_info": {
   "codemirror_mode": {
    "name": "ipython",
    "version": 3
   },
   "file_extension": ".py",
   "mimetype": "text/x-python",
   "name": "python",
   "nbconvert_exporter": "python",
   "pygments_lexer": "ipython3",
   "version": "3.8.11"
  }
 },
 "nbformat": 4,
 "nbformat_minor": 4
}
